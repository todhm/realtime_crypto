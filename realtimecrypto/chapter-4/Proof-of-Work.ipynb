{
 "cells": [
  {
   "cell_type": "markdown",
   "metadata": {},
   "source": [
    "# Proof of Work"
   ]
  },
  {
   "cell_type": "code",
   "execution_count": 1,
   "metadata": {},
   "outputs": [],
   "source": [
    "import requests\n",
    "import json"
   ]
  },
  {
   "cell_type": "markdown",
   "metadata": {},
   "source": [
    "## Hashing Example"
   ]
  },
  {
   "cell_type": "code",
   "execution_count": 2,
   "metadata": {},
   "outputs": [
    {
     "data": {
      "text/plain": [
       "'63af1f5974e26c12572178af017bdc3a6a4c648af3f1da79e5b5105011eae54d'"
      ]
     },
     "execution_count": 2,
     "metadata": {},
     "output_type": "execute_result"
    }
   ],
   "source": [
    "from hashlib import sha256\n",
    "dog = 'Moose'\n",
    "dog_encoded = dog.encode('utf-8')\n",
    "sha256(dog_encoded).hexdigest()"
   ]
  },
  {
   "cell_type": "code",
   "execution_count": 5,
   "metadata": {},
   "outputs": [],
   "source": [
    "from hashlib import sha256\n",
    "\n",
    "def find_hash(num_zeros):\n",
    "    nonce = 1\n",
    "    dog = 'Moose'\n",
    "\n",
    "    while True:\n",
    "        dog_nonce = dog + str(nonce)\n",
    "        dog_nonce_encoded = dog_nonce.encode('utf-8')\n",
    "        _hash_ = sha256(dog_nonce_encoded).hexdigest()\n",
    "        if _hash_.startswith(num_zeros * '0'):\n",
    "            return nonce, _hash_\n",
    "        else:\n",
    "            nonce += 1\n"
   ]
  },
  {
   "cell_type": "code",
   "execution_count": 6,
   "metadata": {},
   "outputs": [
    {
     "name": "stdout",
     "output_type": "stream",
     "text": [
      "CPU times: user 296 µs, sys: 0 ns, total: 296 µs\n",
      "Wall time: 300 µs\n",
      "Nonce: 208\n",
      "Hash: 003486f2a623f900d13c02202a680fe92d4aff6bb46b7fbbce14fc072940e694\n"
     ]
    }
   ],
   "source": [
    "%time nonce, _hash_ = find_hash(2)\n",
    "print(\"Nonce: {}\".format(nonce))\n",
    "print(\"Hash: {}\".format(_hash_))"
   ]
  }
 ],
 "metadata": {
  "kernelspec": {
   "display_name": "Python 3",
   "language": "python",
   "name": "python3"
  },
  "language_info": {
   "codemirror_mode": {
    "name": "ipython",
    "version": 3
   },
   "file_extension": ".py",
   "mimetype": "text/x-python",
   "name": "python",
   "nbconvert_exporter": "python",
   "pygments_lexer": "ipython3",
   "version": "3.6.5"
  }
 },
 "nbformat": 4,
 "nbformat_minor": 2
}
