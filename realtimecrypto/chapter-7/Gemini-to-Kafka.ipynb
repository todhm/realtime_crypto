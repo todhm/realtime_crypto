{
 "cells": [
  {
   "cell_type": "markdown",
   "metadata": {},
   "source": [
    "# Gemini to Kafka\n",
    "This notebook pipes the Gemini exchange's websocket feed to Kafka. Note that for the following code to work you must be running Kafka and have it available at `localhost:9092`"
   ]
  },
  {
   "cell_type": "code",
   "execution_count": 1,
   "metadata": {},
   "outputs": [
    {
     "name": "stdout",
     "output_type": "stream",
     "text": [
      "Collecting kafka-python\n",
      "  Using cached https://files.pythonhosted.org/packages/82/39/aebe3ad518513bbb2260dd84ac21e5c30af860cc4c95b32acbd64b9d9d0d/kafka_python-1.4.6-py2.py3-none-any.whl\n",
      "Collecting websocket-client\n",
      "  Using cached https://files.pythonhosted.org/packages/29/19/44753eab1fdb50770ac69605527e8859468f3c0fd7dc5a76dd9c4dbd7906/websocket_client-0.56.0-py2.py3-none-any.whl\n",
      "Requirement already satisfied: six in /opt/conda/lib/python3.7/site-packages (from websocket-client) (1.12.0)\n",
      "Installing collected packages: kafka-python, websocket-client\n",
      "Successfully installed kafka-python-1.4.6 websocket-client-0.56.0\n"
     ]
    }
   ],
   "source": [
    "!pip install kafka-python websocket-client"
   ]
  },
  {
   "cell_type": "code",
   "execution_count": 2,
   "metadata": {},
   "outputs": [],
   "source": [
    "from kafka import KafkaProducer, KafkaConsumer\n",
    "import websocket\n",
    "import json\n",
    "import datetime"
   ]
  },
  {
   "cell_type": "markdown",
   "metadata": {},
   "source": [
    "## Run Gemini Websocket API"
   ]
  },
  {
   "cell_type": "code",
   "execution_count": 6,
   "metadata": {},
   "outputs": [],
   "source": [
    "class gemini_websocket(object):\n",
    "    \"\"\"\n",
    "    An object for interacting with the Gemini Websocket. Full Gemini API documentation is\n",
    "    available at https://docs.gemini.com\n",
    "    \"\"\"\n",
    "    \n",
    "    def __init__(self, kafka_bootstrap_servers):\n",
    "        \"\"\"\n",
    "        Initializes gemini object.\n",
    "        \n",
    "        Args:\n",
    "            gemini_api_key: your API key for the exchange\n",
    "            gemini_api_secret: secret associated with your API key\n",
    "        \"\"\"\n",
    "        self.kafka_bootstrap_servers = kafka_bootstrap_servers\n",
    "        self.producer = self.create_producer(self.kafka_bootstrap_servers)\n",
    "    \n",
    "    def create_producer(self, bootstrap_servers): \n",
    "        return KafkaProducer(bootstrap_servers=bootstrap_servers)\n",
    "    \n",
    "    def on_message(self, ws, message):\n",
    "        message = json.loads(message)\n",
    "        if message['type'] == 'update':\n",
    "            for i in message['events']:\n",
    "                print(i)\n",
    "                if 'side' in i:\n",
    "                    payload = {'side': i['side'], 'price': i['price'], 'remaining': i['remaining']}\n",
    "                    sent = self.producer.send('gemini-feed', bytes(json.dumps(payload), 'utf-8'))\n",
    "\n",
    "    def on_error(self, ws, error):\n",
    "        print('Error {0}, {1}'.format(error, datetime.datetime.now()))\n",
    "\n",
    "    def on_close(self, ws):\n",
    "        print('Closed, {}'.format(datetime.datetime.now()))\n",
    "\n",
    "    def on_open(self, ws):\n",
    "        print('Opened, {}'.format(datetime.datetime.now()))\n",
    "\n",
    "    def run_websocket(self):\n",
    "        ws = websocket.WebSocketApp(\"wss://api.gemini.com/v1/marketdata/BTCUSD\",\n",
    "                                    on_message=self.on_message,\n",
    "                                    on_open=self.on_open,\n",
    "                                    on_close=self.on_close,\n",
    "                                    on_error=self.on_error\n",
    "                                    )\n",
    "\n",
    "        ws.run_forever(ping_interval=5)  "
   ]
  },
  {
   "cell_type": "code",
   "execution_count": 7,
   "metadata": {},
   "outputs": [],
   "source": [
    "gem = gemini_websocket(['kafka-node:9092'])"
   ]
  },
  {
   "cell_type": "code",
   "execution_count": 8,
   "metadata": {},
   "outputs": [],
   "source": [
    "gem.run_websocket()"
   ]
  }
 ],
 "metadata": {
  "kernelspec": {
   "display_name": "Python 3",
   "language": "python",
   "name": "python3"
  },
  "language_info": {
   "codemirror_mode": {
    "name": "ipython",
    "version": 3
   },
   "file_extension": ".py",
   "mimetype": "text/x-python",
   "name": "python",
   "nbconvert_exporter": "python",
   "pygments_lexer": "ipython3",
   "version": "3.7.3"
  }
 },
 "nbformat": 4,
 "nbformat_minor": 2
}
